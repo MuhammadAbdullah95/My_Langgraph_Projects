{
  "nbformat": 4,
  "nbformat_minor": 0,
  "metadata": {
    "colab": {
      "provenance": [],
      "authorship_tag": "ABX9TyPukdBoqYL3MX36a7M35+Hq",
      "include_colab_link": true
    },
    "kernelspec": {
      "name": "python3",
      "display_name": "Python 3"
    },
    "language_info": {
      "name": "python"
    }
  },
  "cells": [
    {
      "cell_type": "markdown",
      "metadata": {
        "id": "view-in-github",
        "colab_type": "text"
      },
      "source": [
        "<a href=\"https://colab.research.google.com/github/MuhammadAbdullah95/My_Langgraph_Projects/blob/main/Rag_project.ipynb\" target=\"_parent\"><img src=\"https://colab.research.google.com/assets/colab-badge.svg\" alt=\"Open In Colab\"/></a>"
      ]
    },
    {
      "cell_type": "code",
      "execution_count": 10,
      "metadata": {
        "colab": {
          "base_uri": "https://localhost:8080/"
        },
        "id": "5GHSugJ52kU8",
        "outputId": "04178919-d331-4099-a302-58db73447144"
      },
      "outputs": [
        {
          "output_type": "stream",
          "name": "stdout",
          "text": [
            "Requirement already satisfied: google-auth in /usr/local/lib/python3.10/dist-packages (2.27.0)\n",
            "Requirement already satisfied: cachetools<6.0,>=2.0.0 in /usr/local/lib/python3.10/dist-packages (from google-auth) (5.5.0)\n",
            "Requirement already satisfied: pyasn1-modules>=0.2.1 in /usr/local/lib/python3.10/dist-packages (from google-auth) (0.4.1)\n",
            "Requirement already satisfied: rsa<5,>=3.1.4 in /usr/local/lib/python3.10/dist-packages (from google-auth) (4.9)\n",
            "Requirement already satisfied: pyasn1<0.7.0,>=0.4.6 in /usr/local/lib/python3.10/dist-packages (from pyasn1-modules>=0.2.1->google-auth) (0.6.1)\n"
          ]
        }
      ],
      "source": [
        "!pip install -qU langchain-pinecone langchain-google-genai langchain\n",
        "!pip install google-auth"
      ]
    },
    {
      "cell_type": "code",
      "source": [
        "from google.colab import userdata\n",
        "GEMINI_API_KEY = userdata.get('GEMINI_API_KEY')\n",
        "PINECONE_API_KEY = userdata.get('PINECONE_API_KEY')"
      ],
      "metadata": {
        "id": "25A86IdK2srw"
      },
      "execution_count": 11,
      "outputs": []
    },
    {
      "cell_type": "code",
      "source": [
        "import os\n",
        "from pinecone import Pinecone, ServerlessSpec\n",
        "\n",
        "pc = Pinecone(\n",
        "        api_key=PINECONE_API_KEY\n",
        "    )\n"
      ],
      "metadata": {
        "id": "OZpI2iSs4zzL"
      },
      "execution_count": 12,
      "outputs": []
    },
    {
      "cell_type": "code",
      "source": [
        "import time\n",
        "\n",
        "index_name = \"rag-project2\"  # change if desired\n",
        "\n",
        "existing_indexes = [index_info[\"name\"] for index_info in pc.list_indexes()]\n",
        "\n",
        "if index_name not in existing_indexes:\n",
        "    pc.create_index(\n",
        "        name=index_name,\n",
        "        dimension=768,\n",
        "        metric=\"cosine\",\n",
        "        spec=ServerlessSpec(cloud=\"aws\", region=\"us-east-1\"),\n",
        "    )\n",
        "    while not pc.describe_index(index_name).status[\"ready\"]:\n",
        "        time.sleep(1)\n",
        "\n",
        "index = pc.Index(index_name)"
      ],
      "metadata": {
        "id": "deg340Jw5WdK"
      },
      "execution_count": 13,
      "outputs": []
    },
    {
      "cell_type": "code",
      "source": [
        "from google.colab import userdata\n",
        "import os\n",
        "from langchain_google_genai import GoogleGenerativeAIEmbeddings\n",
        "from google.auth import default\n",
        "\n",
        "GEMINI_API_KEY = userdata.get('GEMINI_API_KEY')\n",
        "os.environ[\"GEMINI_API_KEY\"] = GEMINI_API_KEY\n",
        "\n",
        "embeddings = GoogleGenerativeAIEmbeddings(model=\"models/embedding-001\", google_api_key=GEMINI_API_KEY)"
      ],
      "metadata": {
        "id": "jlD5TE9Y1UKI"
      },
      "execution_count": 14,
      "outputs": []
    },
    {
      "cell_type": "code",
      "source": [
        "vector = embeddings.embed_query(\"hello, world\")\n"
      ],
      "metadata": {
        "id": "rxkARUJc1_7Z"
      },
      "execution_count": 15,
      "outputs": []
    },
    {
      "cell_type": "code",
      "source": [
        "from langchain_pinecone import PineconeVectorStore\n",
        "vector_store = PineconeVectorStore(index=index, embedding=embeddings)"
      ],
      "metadata": {
        "id": "8UEpmV3vQvnx"
      },
      "execution_count": 16,
      "outputs": []
    },
    {
      "cell_type": "code",
      "source": [
        "# !pip install -qU langchain-pinecone langchain-google-genai langchain\n",
        "# !pip install google-auth\n",
        "# from google.colab import userdata\n",
        "# GEMINI_API_KEY = userdata.get('GEMINI_API_KEY')\n",
        "# PINECONE_API_KEY = userdata.get('PINECONE_API_KEY')\n",
        "# import os\n",
        "# from pinecone import Pinecone, ServerlessSpec\n",
        "\n",
        "# pc = Pinecone(\n",
        "#         api_key=PINECONE_API_KEY\n",
        "#     )\n",
        "# import time\n",
        "\n",
        "# index_name = \"rag-project2\"  # change if desired\n",
        "\n",
        "# existing_indexes = [index_info[\"name\"] for index_info in pc.list_indexes()]\n",
        "\n",
        "# if index_name not in existing_indexes:\n",
        "#     pc.create_index(\n",
        "#         name=index_name,\n",
        "#         dimension=768,\n",
        "#         metric=\"cosine\",\n",
        "#         spec=ServerlessSpec(cloud=\"aws\", region=\"us-east-1\"),\n",
        "#     )\n",
        "#     while not pc.describe_index(index_name).status[\"ready\"]:\n",
        "#         time.sleep(1)\n",
        "\n",
        "# index = pc.Index(index_name)\n",
        "# from google.colab import userdata\n",
        "# import os\n",
        "# from langchain_google_genai import GoogleGenerativeAIEmbeddings\n",
        "# from google.auth import default\n",
        "\n",
        "# # Get credentials from userdata or default service account\n",
        "# GEMINI_API_KEY = userdata.get('GEMINI_API_KEY')\n",
        "# os.environ[\"GEMINI_API_KEY\"] = GEMINI_API_KEY\n",
        "\n",
        "# # Explicitly use API key for authentication\n",
        "# embeddings = GoogleGenerativeAIEmbeddings(\n",
        "#     model=\"models/embedding-001\",\n",
        "#     google_api_key=GEMINI_API_KEY # Use API key directly\n",
        "# )\n",
        "\n",
        "# # Remove the try-except block, as we are now using the API key directly\n",
        "\n",
        "# vector = embeddings.embed_query(\"this is a rag text\")"
      ],
      "metadata": {
        "id": "FnDPSnMIXyvl"
      },
      "execution_count": null,
      "outputs": []
    },
    {
      "cell_type": "code",
      "source": [
        "from uuid import uuid4\n",
        "\n",
        "from langchain_core.documents import Document\n",
        "\n",
        "document_1 = Document(\n",
        "    page_content=\"I had chocalate chip pancakes and scrambled eggs for breakfast this morning.\",\n",
        "    metadata={\"source\": \"tweet\"},\n",
        ")\n",
        "\n",
        "document_2 = Document(\n",
        "    page_content=\"The weather forecast for tomorrow is cloudy and overcast, with a high of 62 degrees.\",\n",
        "    metadata={\"source\": \"news\"},\n",
        ")\n",
        "\n",
        "document_3 = Document(\n",
        "    page_content=\"Building an exciting new project with LangChain - come check it out!\",\n",
        "    metadata={\"source\": \"tweet\"},\n",
        ")\n",
        "\n",
        "document_4 = Document(\n",
        "    page_content=\"Robbers broke into the city bank and stole $1 million in cash.\",\n",
        "    metadata={\"source\": \"news\"},\n",
        ")\n",
        "\n",
        "document_5 = Document(\n",
        "    page_content=\"Wow! That was an amazing movie. I can't wait to see it again.\",\n",
        "    metadata={\"source\": \"tweet\"},\n",
        ")\n",
        "\n",
        "document_6 = Document(\n",
        "    page_content=\"Is the new iPhone worth the price? Read this review to find out.\",\n",
        "    metadata={\"source\": \"website\"},\n",
        ")\n",
        "\n",
        "document_7 = Document(\n",
        "    page_content=\"The top 10 soccer players in the world right now.\",\n",
        "    metadata={\"source\": \"website\"},\n",
        ")\n",
        "\n",
        "document_8 = Document(\n",
        "    page_content=\"LangGraph is the best framework for building stateful, agentic applications!\",\n",
        "    metadata={\"source\": \"tweet\"},\n",
        ")\n",
        "\n",
        "document_9 = Document(\n",
        "    page_content=\"The stock market is down 500 points today due to fears of a recession.\",\n",
        "    metadata={\"source\": \"news\"},\n",
        ")\n",
        "\n",
        "document_10 = Document(\n",
        "    page_content=\"I have a bad feeling I am going to get deleted :(\",\n",
        "    metadata={\"source\": \"tweet\"},\n",
        ")\n",
        "\n",
        "documents = [\n",
        "    document_1,\n",
        "    document_2,\n",
        "    document_3,\n",
        "    document_4,\n",
        "    document_5,\n",
        "    document_6,\n",
        "    document_7,\n",
        "    document_8,\n",
        "    document_9,\n",
        "    document_10,\n",
        "]\n",
        "uuids = [str(uuid4()) for _ in range(len(documents))]\n",
        "\n",
        "document_ids = vector_store.add_documents(documents=documents, ids=uuids)"
      ],
      "metadata": {
        "id": "EBLEZl24RZ55"
      },
      "execution_count": 19,
      "outputs": []
    },
    {
      "cell_type": "code",
      "source": [
        "document_ids"
      ],
      "metadata": {
        "colab": {
          "base_uri": "https://localhost:8080/"
        },
        "id": "J1QVTRwnUGk_",
        "outputId": "e9cbcf6a-c172-4ff1-e224-8c13e8650579"
      },
      "execution_count": 20,
      "outputs": [
        {
          "output_type": "execute_result",
          "data": {
            "text/plain": [
              "['c544c746-75a3-4b03-8384-ad159ae21480',\n",
              " '763b159d-7201-451d-8a11-25e27a282ed3',\n",
              " '696d2bd5-c12f-4ce9-903d-f50860b22de7',\n",
              " 'f9fd8fb5-9b82-4c9f-b211-213710cca252',\n",
              " '21362800-13de-43dd-83bb-b25760920413',\n",
              " '7bca2ea8-0f06-4d33-91b4-f01e0c40a9ef',\n",
              " '715332f5-fc06-4788-9836-a9ecacdbdee4',\n",
              " 'b76638e3-6b37-49f1-9114-735392fc1cf0',\n",
              " '561f0ea3-c7ac-4380-a59d-5da0ccdf34a0',\n",
              " '1f7184e0-782b-4a25-8add-a5744772be34']"
            ]
          },
          "metadata": {},
          "execution_count": 20
        }
      ]
    },
    {
      "cell_type": "code",
      "source": [
        "vector_store.delete(ids=[uuids[-1]])"
      ],
      "metadata": {
        "id": "UawhtQLoY_Wt"
      },
      "execution_count": 22,
      "outputs": []
    },
    {
      "cell_type": "code",
      "source": [
        "document_ids"
      ],
      "metadata": {
        "colab": {
          "base_uri": "https://localhost:8080/"
        },
        "id": "IhDfZbVPT8AX",
        "outputId": "32954e56-06f0-4917-b90a-047a3fb7a848"
      },
      "execution_count": 23,
      "outputs": [
        {
          "output_type": "execute_result",
          "data": {
            "text/plain": [
              "['c544c746-75a3-4b03-8384-ad159ae21480',\n",
              " '763b159d-7201-451d-8a11-25e27a282ed3',\n",
              " '696d2bd5-c12f-4ce9-903d-f50860b22de7',\n",
              " 'f9fd8fb5-9b82-4c9f-b211-213710cca252',\n",
              " '21362800-13de-43dd-83bb-b25760920413',\n",
              " '7bca2ea8-0f06-4d33-91b4-f01e0c40a9ef',\n",
              " '715332f5-fc06-4788-9836-a9ecacdbdee4',\n",
              " 'b76638e3-6b37-49f1-9114-735392fc1cf0',\n",
              " '561f0ea3-c7ac-4380-a59d-5da0ccdf34a0',\n",
              " '1f7184e0-782b-4a25-8add-a5744772be34']"
            ]
          },
          "metadata": {},
          "execution_count": 23
        }
      ]
    },
    {
      "cell_type": "code",
      "source": [
        "results = vector_store.similarity_search(\n",
        "    \"LangChain provides abstractions to make working with LLMs easy\",\n",
        "    k=2,\n",
        "    filter={\"source\": \"tweet\"},\n",
        ")\n",
        "for res in results:\n",
        "    print(f\"* {res.page_content} [{res.metadata}]\")"
      ],
      "metadata": {
        "colab": {
          "base_uri": "https://localhost:8080/"
        },
        "id": "0Qm--VRJUOBu",
        "outputId": "77834217-ed99-4543-c2f2-602e70e6466b"
      },
      "execution_count": 26,
      "outputs": [
        {
          "output_type": "stream",
          "name": "stdout",
          "text": [
            "* LangGraph is the best framework for building stateful, agentic applications! [{'source': 'tweet'}]\n",
            "* LangGraph is the best framework for building stateful, agentic applications! [{'source': 'tweet'}]\n"
          ]
        }
      ]
    },
    {
      "cell_type": "code",
      "source": [
        "results = vector_store.similarity_search_with_score(\n",
        "    \"Will it be hot tomorrow?\",\n",
        "    filter={\"source\": \"news\"}\n",
        ")\n",
        "for res, score in results:\n",
        "    print(f\"* [SIM={score:3f}] {res.page_content} [{res.metadata}]\")"
      ],
      "metadata": {
        "colab": {
          "base_uri": "https://localhost:8080/"
        },
        "id": "fAJrdicVdRMV",
        "outputId": "6b6e471f-7298-49a7-d2d0-45af026de45d"
      },
      "execution_count": 28,
      "outputs": [
        {
          "output_type": "stream",
          "name": "stdout",
          "text": [
            "* [SIM=0.668031] The weather forecast for tomorrow is cloudy and overcast, with a high of 62 degrees. [{'source': 'news'}]\n",
            "* [SIM=0.668031] The weather forecast for tomorrow is cloudy and overcast, with a high of 62 degrees. [{'source': 'news'}]\n",
            "* [SIM=0.534239] The stock market is down 500 points today due to fears of a recession. [{'source': 'news'}]\n",
            "* [SIM=0.534239] The stock market is down 500 points today due to fears of a recession. [{'source': 'news'}]\n"
          ]
        }
      ]
    },
    {
      "cell_type": "code",
      "source": [
        "def answer_to_user(query: str):\n",
        "\n",
        "  # Vector Search\n",
        "  result = vector_store.similarity_search(query, k=2)\n",
        "\n",
        "  # Pass to model Vector Results + User Query\n",
        "\n",
        "  final_answer = model(result + query)\n",
        "  return final_answer\n",
        "\n",
        ""
      ],
      "metadata": {
        "id": "9UTXE93xUuif"
      },
      "execution_count": null,
      "outputs": []
    }
  ]
}